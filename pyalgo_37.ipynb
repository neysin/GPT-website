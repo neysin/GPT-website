{
  "nbformat": 4,
  "nbformat_minor": 0,
  "metadata": {
    "colab": {
      "provenance": [],
      "authorship_tag": "ABX9TyOe1+u4tTYG0RDXKfwFYqbZ",
      "include_colab_link": true
    },
    "kernelspec": {
      "name": "python3",
      "display_name": "Python 3"
    },
    "language_info": {
      "name": "python"
    }
  },
  "cells": [
    {
      "cell_type": "markdown",
      "metadata": {
        "id": "view-in-github",
        "colab_type": "text"
      },
      "source": [
        "<a href=\"https://colab.research.google.com/github/neysin/GPT-website/blob/main/pyalgo_37.ipynb\" target=\"_parent\"><img src=\"https://colab.research.google.com/assets/colab-badge.svg\" alt=\"Open In Colab\"/></a>"
      ]
    },
    {
      "cell_type": "code",
      "execution_count": 8,
      "metadata": {
        "colab": {
          "base_uri": "https://localhost:8080/"
        },
        "id": "jt9KYfw2mhZQ",
        "outputId": "60dd3ee2-2dc8-4f24-ed1a-d80d93fe98ed"
      },
      "outputs": [
        {
          "output_type": "execute_result",
          "data": {
            "text/plain": [
              "{'time': '08:55:45', 'message': '사용자 로그인'}"
            ]
          },
          "metadata": {},
          "execution_count": 8
        }
      ],
      "source": [
        "# 문제 37\n",
        "import re\n",
        "def solution(data):\n",
        "    pattern1 = r'[0-2]{1}[0-9]{1}:[0-6]{1}[0-9]{1}:[0-6]{1}[0-9]{1}'\n",
        "    pattern2 = r'[\\uAC00-\\uD7A3]{1,}'\n",
        "    time_num = re.findall(pattern1, data)\n",
        "    kr_str = re.findall(pattern2, data)\n",
        "    dict_asd = {'time': time_num[0], 'message': ' '.join(kr_str)}\n",
        "    return dict_asd\n",
        "\n",
        "\n",
        "data = \"[08:55:45] 사용자 로그인\"\n",
        "solution(data)"
      ]
    }
  ]
}